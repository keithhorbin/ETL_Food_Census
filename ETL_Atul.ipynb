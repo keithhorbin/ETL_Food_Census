{
 "cells": [
  {
   "cell_type": "code",
   "execution_count": 1,
   "metadata": {},
   "outputs": [],
   "source": [
    "import pandas as pd\n",
    "import numpy as np\n",
    "from sqlalchemy import create_engine"
   ]
  },
  {
   "cell_type": "markdown",
   "metadata": {
    "slideshow": {
     "slide_type": "-"
    }
   },
   "source": [
    "### Store Boston CSV into DataFrame"
   ]
  },
  {
   "cell_type": "code",
   "execution_count": 3,
   "metadata": {},
   "outputs": [
    {
     "data": {
      "text/html": "<div>\n<style scoped>\n    .dataframe tbody tr th:only-of-type {\n        vertical-align: middle;\n    }\n\n    .dataframe tbody tr th {\n        vertical-align: top;\n    }\n\n    .dataframe thead th {\n        text-align: right;\n    }\n</style>\n<table border=\"1\" class=\"dataframe\">\n  <thead>\n    <tr style=\"text-align: right;\">\n      <th></th>\n      <th>businessname</th>\n      <th>dbaname</th>\n      <th>legalowner</th>\n      <th>namelast</th>\n      <th>namefirst</th>\n      <th>licenseno</th>\n      <th>issdttm</th>\n      <th>expdttm</th>\n      <th>licstatus</th>\n      <th>licensecat</th>\n      <th>...</th>\n      <th>violdttm</th>\n      <th>violstatus</th>\n      <th>statusdate</th>\n      <th>comments</th>\n      <th>address</th>\n      <th>city</th>\n      <th>state</th>\n      <th>zip</th>\n      <th>property_id</th>\n      <th>location</th>\n    </tr>\n  </thead>\n  <tbody>\n    <tr>\n      <th>0</th>\n      <td>100 Percent Delicia Food</td>\n      <td>NaN</td>\n      <td>BRENNAN PATRICK E</td>\n      <td>Marte</td>\n      <td>Civelis</td>\n      <td>87059</td>\n      <td>4/5/2013 12:47</td>\n      <td>12/31/2020 23:59</td>\n      <td>Active</td>\n      <td>FS</td>\n      <td>...</td>\n      <td>4/25/2017 11:57</td>\n      <td>Fail</td>\n      <td>NaN</td>\n      <td>Label all bulk food containers.</td>\n      <td>635   Hyde Park AVE</td>\n      <td>Roslindale</td>\n      <td>MA</td>\n      <td>2131</td>\n      <td>77476.0</td>\n      <td>(42.278590000, -71.119440000)</td>\n    </tr>\n    <tr>\n      <th>1</th>\n      <td>100 Percent Delicia Food</td>\n      <td>NaN</td>\n      <td>BRENNAN PATRICK E</td>\n      <td>Marte</td>\n      <td>Civelis</td>\n      <td>87059</td>\n      <td>4/5/2013 12:47</td>\n      <td>12/31/2020 23:59</td>\n      <td>Active</td>\n      <td>FS</td>\n      <td>...</td>\n      <td>4/25/2017 11:57</td>\n      <td>Fail</td>\n      <td>NaN</td>\n      <td>Certified Food Safety staff member will need t...</td>\n      <td>635   Hyde Park AVE</td>\n      <td>Roslindale</td>\n      <td>MA</td>\n      <td>2131</td>\n      <td>77476.0</td>\n      <td>(42.278590000, -71.119440000)</td>\n    </tr>\n    <tr>\n      <th>2</th>\n      <td>100 Percent Delicia Food</td>\n      <td>NaN</td>\n      <td>BRENNAN PATRICK E</td>\n      <td>Marte</td>\n      <td>Civelis</td>\n      <td>87059</td>\n      <td>4/5/2013 12:47</td>\n      <td>12/31/2020 23:59</td>\n      <td>Active</td>\n      <td>FS</td>\n      <td>...</td>\n      <td>4/25/2017 11:57</td>\n      <td>Fail</td>\n      <td>NaN</td>\n      <td>Raw foods stored above cooked foods in walk in...</td>\n      <td>635   Hyde Park AVE</td>\n      <td>Roslindale</td>\n      <td>MA</td>\n      <td>2131</td>\n      <td>77476.0</td>\n      <td>(42.278590000, -71.119440000)</td>\n    </tr>\n    <tr>\n      <th>3</th>\n      <td>100 Percent Delicia Food</td>\n      <td>NaN</td>\n      <td>BRENNAN PATRICK E</td>\n      <td>Marte</td>\n      <td>Civelis</td>\n      <td>87059</td>\n      <td>4/5/2013 12:47</td>\n      <td>12/31/2020 23:59</td>\n      <td>Active</td>\n      <td>FS</td>\n      <td>...</td>\n      <td>4/25/2017 11:57</td>\n      <td>Fail</td>\n      <td>NaN</td>\n      <td>All food in storage must have a cover.  Discon...</td>\n      <td>635   Hyde Park AVE</td>\n      <td>Roslindale</td>\n      <td>MA</td>\n      <td>2131</td>\n      <td>77476.0</td>\n      <td>(42.278590000, -71.119440000)</td>\n    </tr>\n    <tr>\n      <th>4</th>\n      <td>100 Percent Delicia Food</td>\n      <td>NaN</td>\n      <td>BRENNAN PATRICK E</td>\n      <td>Marte</td>\n      <td>Civelis</td>\n      <td>87059</td>\n      <td>4/5/2013 12:47</td>\n      <td>12/31/2020 23:59</td>\n      <td>Active</td>\n      <td>FS</td>\n      <td>...</td>\n      <td>4/25/2017 11:57</td>\n      <td>Fail</td>\n      <td>NaN</td>\n      <td>Paint wood shelf on cooking line under all the...</td>\n      <td>635   Hyde Park AVE</td>\n      <td>Roslindale</td>\n      <td>MA</td>\n      <td>2131</td>\n      <td>77476.0</td>\n      <td>(42.278590000, -71.119440000)</td>\n    </tr>\n  </tbody>\n</table>\n<p>5 rows × 26 columns</p>\n</div>",
      "text/plain": "               businessname dbaname         legalowner namelast namefirst  \\\n0  100 Percent Delicia Food     NaN  BRENNAN PATRICK E    Marte   Civelis   \n1  100 Percent Delicia Food     NaN  BRENNAN PATRICK E    Marte   Civelis   \n2  100 Percent Delicia Food     NaN  BRENNAN PATRICK E    Marte   Civelis   \n3  100 Percent Delicia Food     NaN  BRENNAN PATRICK E    Marte   Civelis   \n4  100 Percent Delicia Food     NaN  BRENNAN PATRICK E    Marte   Civelis   \n\n   licenseno         issdttm           expdttm licstatus licensecat  ...  \\\n0      87059  4/5/2013 12:47  12/31/2020 23:59    Active         FS  ...   \n1      87059  4/5/2013 12:47  12/31/2020 23:59    Active         FS  ...   \n2      87059  4/5/2013 12:47  12/31/2020 23:59    Active         FS  ...   \n3      87059  4/5/2013 12:47  12/31/2020 23:59    Active         FS  ...   \n4      87059  4/5/2013 12:47  12/31/2020 23:59    Active         FS  ...   \n\n          violdttm violstatus statusdate  \\\n0  4/25/2017 11:57       Fail        NaN   \n1  4/25/2017 11:57       Fail        NaN   \n2  4/25/2017 11:57       Fail        NaN   \n3  4/25/2017 11:57       Fail        NaN   \n4  4/25/2017 11:57       Fail        NaN   \n\n                                            comments              address  \\\n0                    Label all bulk food containers.  635   Hyde Park AVE   \n1  Certified Food Safety staff member will need t...  635   Hyde Park AVE   \n2  Raw foods stored above cooked foods in walk in...  635   Hyde Park AVE   \n3  All food in storage must have a cover.  Discon...  635   Hyde Park AVE   \n4  Paint wood shelf on cooking line under all the...  635   Hyde Park AVE   \n\n         city state   zip property_id                       location  \n0  Roslindale    MA  2131     77476.0  (42.278590000, -71.119440000)  \n1  Roslindale    MA  2131     77476.0  (42.278590000, -71.119440000)  \n2  Roslindale    MA  2131     77476.0  (42.278590000, -71.119440000)  \n3  Roslindale    MA  2131     77476.0  (42.278590000, -71.119440000)  \n4  Roslindale    MA  2131     77476.0  (42.278590000, -71.119440000)  \n\n[5 rows x 26 columns]"
     },
     "execution_count": 3,
     "metadata": {},
     "output_type": "execute_result"
    }
   ],
   "source": [
    "#Boston\n",
    "csv_file = \"Resources/boston_food.csv\"\n",
    "boston_data_df = pd.read_csv(csv_file)\n",
    "boston_data_df.head()"
   ]
  },
  {
   "cell_type": "markdown",
   "metadata": {},
   "source": [
    "### Store Chicago CSV in Dataframe"
   ]
  },
  {
   "cell_type": "code",
   "execution_count": 5,
   "metadata": {},
   "outputs": [
    {
     "data": {
      "text/html": "<div>\n<style scoped>\n    .dataframe tbody tr th:only-of-type {\n        vertical-align: middle;\n    }\n\n    .dataframe tbody tr th {\n        vertical-align: top;\n    }\n\n    .dataframe thead th {\n        text-align: right;\n    }\n</style>\n<table border=\"1\" class=\"dataframe\">\n  <thead>\n    <tr style=\"text-align: right;\">\n      <th></th>\n      <th>Inspection ID</th>\n      <th>DBA Name</th>\n      <th>AKA Name</th>\n      <th>License #</th>\n      <th>Facility Type</th>\n      <th>Risk</th>\n      <th>Address</th>\n      <th>City</th>\n      <th>State</th>\n      <th>Zip</th>\n      <th>Inspection Date</th>\n      <th>Inspection Type</th>\n      <th>Results</th>\n      <th>Violations</th>\n      <th>Latitude</th>\n      <th>Longitude</th>\n      <th>Location</th>\n    </tr>\n  </thead>\n  <tbody>\n    <tr>\n      <th>0</th>\n      <td>2129819</td>\n      <td>510 BELMONT TOWER INC.</td>\n      <td>510 BELMONT TOWER INC.</td>\n      <td>1889055.0</td>\n      <td>NaN</td>\n      <td>Risk 3 (Low)</td>\n      <td>510 W BELMONT AVE</td>\n      <td>CHICAGO</td>\n      <td>IL</td>\n      <td>60657</td>\n      <td>12/29/2017</td>\n      <td>Canvass</td>\n      <td>Out of Business</td>\n      <td>NaN</td>\n      <td>41.940187</td>\n      <td>-87.642385</td>\n      <td>(-87.64238451297855, 41.94018672257404)</td>\n    </tr>\n    <tr>\n      <th>1</th>\n      <td>2129795</td>\n      <td>SUMMER'S PALACE</td>\n      <td>SUMMER'S PALACE</td>\n      <td>60138.0</td>\n      <td>NaN</td>\n      <td>Risk 3 (Low)</td>\n      <td>5038 N CLARK ST</td>\n      <td>CHICAGO</td>\n      <td>IL</td>\n      <td>60640</td>\n      <td>12/28/2017</td>\n      <td>Canvass</td>\n      <td>Out of Business</td>\n      <td>NaN</td>\n      <td>41.973516</td>\n      <td>-87.668250</td>\n      <td>(-87.66825003652856, 41.97351594814305)</td>\n    </tr>\n    <tr>\n      <th>2</th>\n      <td>2129787</td>\n      <td>Metromart Newsstand</td>\n      <td>Metromart Newsstand</td>\n      <td>1382610.0</td>\n      <td>CONVENIENCE STORE</td>\n      <td>Risk 3 (Low)</td>\n      <td>2 N LA SALLE ST</td>\n      <td>CHICAGO</td>\n      <td>IL</td>\n      <td>60602</td>\n      <td>12/28/2017</td>\n      <td>Canvass</td>\n      <td>Pass</td>\n      <td>NaN</td>\n      <td>41.881992</td>\n      <td>-87.632507</td>\n      <td>(-87.63250662670102, 41.88199229825289)</td>\n    </tr>\n    <tr>\n      <th>3</th>\n      <td>2129786</td>\n      <td>REZA'S RESTAURANT</td>\n      <td>REZA'S RESTAURANT (COLD STORAGE)</td>\n      <td>1841515.0</td>\n      <td>COLD/FROZEN FOOD STORAGE</td>\n      <td>Risk 3 (Low)</td>\n      <td>5238 N CLARK ST</td>\n      <td>CHICAGO</td>\n      <td>IL</td>\n      <td>60640</td>\n      <td>12/28/2017</td>\n      <td>Canvass</td>\n      <td>Pass</td>\n      <td>41. PREMISES MAINTAINED FREE OF LITTER, UNNECE...</td>\n      <td>41.977390</td>\n      <td>-87.668523</td>\n      <td>(-87.66852279752685, 41.97738953666194)</td>\n    </tr>\n    <tr>\n      <th>4</th>\n      <td>2129780</td>\n      <td>GILIANA &amp; HUZIRAN CO</td>\n      <td>GILIANA &amp; HUZIRAN CO</td>\n      <td>11190.0</td>\n      <td>NaN</td>\n      <td>Risk 3 (Low)</td>\n      <td>5140 N CLARK ST</td>\n      <td>CHICAGO</td>\n      <td>IL</td>\n      <td>60640</td>\n      <td>12/28/2017</td>\n      <td>Canvass</td>\n      <td>Out of Business</td>\n      <td>NaN</td>\n      <td>41.975567</td>\n      <td>-87.668497</td>\n      <td>(-87.66849715000312, 41.975566761595694)</td>\n    </tr>\n  </tbody>\n</table>\n</div>",
      "text/plain": "   Inspection ID                DBA Name                          AKA Name  \\\n0        2129819  510 BELMONT TOWER INC.            510 BELMONT TOWER INC.   \n1        2129795         SUMMER'S PALACE                   SUMMER'S PALACE   \n2        2129787     Metromart Newsstand               Metromart Newsstand   \n3        2129786       REZA'S RESTAURANT  REZA'S RESTAURANT (COLD STORAGE)   \n4        2129780    GILIANA & HUZIRAN CO              GILIANA & HUZIRAN CO   \n\n   License #             Facility Type          Risk             Address  \\\n0  1889055.0                       NaN  Risk 3 (Low)  510 W BELMONT AVE    \n1    60138.0                       NaN  Risk 3 (Low)    5038 N CLARK ST    \n2  1382610.0         CONVENIENCE STORE  Risk 3 (Low)    2 N LA SALLE ST    \n3  1841515.0  COLD/FROZEN FOOD STORAGE  Risk 3 (Low)    5238 N CLARK ST    \n4    11190.0                       NaN  Risk 3 (Low)    5140 N CLARK ST    \n\n      City State    Zip Inspection Date Inspection Type          Results  \\\n0  CHICAGO    IL  60657      12/29/2017         Canvass  Out of Business   \n1  CHICAGO    IL  60640      12/28/2017         Canvass  Out of Business   \n2  CHICAGO    IL  60602      12/28/2017         Canvass             Pass   \n3  CHICAGO    IL  60640      12/28/2017         Canvass             Pass   \n4  CHICAGO    IL  60640      12/28/2017         Canvass  Out of Business   \n\n                                          Violations   Latitude  Longitude  \\\n0                                                NaN  41.940187 -87.642385   \n1                                                NaN  41.973516 -87.668250   \n2                                                NaN  41.881992 -87.632507   \n3  41. PREMISES MAINTAINED FREE OF LITTER, UNNECE...  41.977390 -87.668523   \n4                                                NaN  41.975567 -87.668497   \n\n                                   Location  \n0   (-87.64238451297855, 41.94018672257404)  \n1   (-87.66825003652856, 41.97351594814305)  \n2   (-87.63250662670102, 41.88199229825289)  \n3   (-87.66852279752685, 41.97738953666194)  \n4  (-87.66849715000312, 41.975566761595694)  "
     },
     "execution_count": 5,
     "metadata": {},
     "output_type": "execute_result"
    }
   ],
   "source": [
    "#Chicago\n",
    "csv_file = \"Resources/chicago_food.csv\"\n",
    "chicago_data_df = pd.read_csv(csv_file)\n",
    "chicago_data_df.head()"
   ]
  },
  {
   "cell_type": "markdown",
   "metadata": {},
   "source": [
    "### Store Census CSV in Dataframe"
   ]
  },
  {
   "cell_type": "code",
   "execution_count": 6,
   "metadata": {},
   "outputs": [
    {
     "data": {
      "text/html": "<div>\n<style scoped>\n    .dataframe tbody tr th:only-of-type {\n        vertical-align: middle;\n    }\n\n    .dataframe tbody tr th {\n        vertical-align: top;\n    }\n\n    .dataframe thead th {\n        text-align: right;\n    }\n</style>\n<table border=\"1\" class=\"dataframe\">\n  <thead>\n    <tr style=\"text-align: right;\">\n      <th></th>\n      <th>Zipcode</th>\n      <th>Population</th>\n      <th>Median Age</th>\n      <th>Household Income</th>\n      <th>Per Capita Income</th>\n      <th>Poverty Count</th>\n      <th>Poverty Rate</th>\n      <th>Unemployment Rate</th>\n    </tr>\n  </thead>\n  <tbody>\n    <tr>\n      <th>0</th>\n      <td>601</td>\n      <td>17599.0</td>\n      <td>38.9</td>\n      <td>11757.0</td>\n      <td>7041.0</td>\n      <td>11282.0</td>\n      <td>64.105915</td>\n      <td>13.943974</td>\n    </tr>\n    <tr>\n      <th>1</th>\n      <td>602</td>\n      <td>39209.0</td>\n      <td>40.9</td>\n      <td>16190.0</td>\n      <td>8978.0</td>\n      <td>20428.0</td>\n      <td>52.100283</td>\n      <td>6.473004</td>\n    </tr>\n    <tr>\n      <th>2</th>\n      <td>603</td>\n      <td>50135.0</td>\n      <td>40.4</td>\n      <td>16645.0</td>\n      <td>10897.0</td>\n      <td>25176.0</td>\n      <td>50.216416</td>\n      <td>7.156677</td>\n    </tr>\n    <tr>\n      <th>3</th>\n      <td>606</td>\n      <td>6304.0</td>\n      <td>42.8</td>\n      <td>13387.0</td>\n      <td>5960.0</td>\n      <td>4092.0</td>\n      <td>64.911168</td>\n      <td>3.236041</td>\n    </tr>\n    <tr>\n      <th>4</th>\n      <td>610</td>\n      <td>27590.0</td>\n      <td>41.4</td>\n      <td>18741.0</td>\n      <td>9266.0</td>\n      <td>12553.0</td>\n      <td>45.498369</td>\n      <td>5.342515</td>\n    </tr>\n  </tbody>\n</table>\n</div>",
      "text/plain": "   Zipcode  Population  Median Age  Household Income  Per Capita Income  \\\n0      601     17599.0        38.9           11757.0             7041.0   \n1      602     39209.0        40.9           16190.0             8978.0   \n2      603     50135.0        40.4           16645.0            10897.0   \n3      606      6304.0        42.8           13387.0             5960.0   \n4      610     27590.0        41.4           18741.0             9266.0   \n\n   Poverty Count  Poverty Rate  Unemployment Rate  \n0        11282.0     64.105915          13.943974  \n1        20428.0     52.100283           6.473004  \n2        25176.0     50.216416           7.156677  \n3         4092.0     64.911168           3.236041  \n4        12553.0     45.498369           5.342515  "
     },
     "execution_count": 6,
     "metadata": {},
     "output_type": "execute_result"
    }
   ],
   "source": [
    "#Census\n",
    "csv_file = \"Resources/census_data_zipcodes.csv\"\n",
    "census_data_df = pd.read_csv(csv_file)\n",
    "census_data_df.head()"
   ]
  },
  {
   "cell_type": "markdown",
   "metadata": {},
   "source": [
    "### Create new data with select columns"
   ]
  },
  {
   "cell_type": "code",
   "execution_count": 16,
   "metadata": {},
   "outputs": [
    {
     "name": "stdout",
     "output_type": "stream",
     "text": "license_no               int64\ninspect_date    datetime64[ns]\ncity                    object\nstate                   object\nzip                     object\ndtype: object\nlicense_no      43421\ninspect_date    43421\ncity            43421\nstate           43421\nzip             43421\ndtype: int64\n"
    },
    {
     "data": {
      "text/html": "<div>\n<style scoped>\n    .dataframe tbody tr th:only-of-type {\n        vertical-align: middle;\n    }\n\n    .dataframe tbody tr th {\n        vertical-align: top;\n    }\n\n    .dataframe thead th {\n        text-align: right;\n    }\n</style>\n<table border=\"1\" class=\"dataframe\">\n  <thead>\n    <tr style=\"text-align: right;\">\n      <th></th>\n      <th>license_no</th>\n      <th>inspect_date</th>\n      <th>city</th>\n      <th>state</th>\n      <th>zip</th>\n    </tr>\n  </thead>\n  <tbody>\n    <tr>\n      <th>0</th>\n      <td>87059</td>\n      <td>2017-04-25 11:57:00</td>\n      <td>Roslindale</td>\n      <td>MA</td>\n      <td>02131</td>\n    </tr>\n    <tr>\n      <th>1</th>\n      <td>87059</td>\n      <td>2017-04-25 11:57:00</td>\n      <td>Roslindale</td>\n      <td>MA</td>\n      <td>02131</td>\n    </tr>\n    <tr>\n      <th>2</th>\n      <td>87059</td>\n      <td>2017-04-25 11:57:00</td>\n      <td>Roslindale</td>\n      <td>MA</td>\n      <td>02131</td>\n    </tr>\n    <tr>\n      <th>3</th>\n      <td>87059</td>\n      <td>2017-04-25 11:57:00</td>\n      <td>Roslindale</td>\n      <td>MA</td>\n      <td>02131</td>\n    </tr>\n    <tr>\n      <th>4</th>\n      <td>87059</td>\n      <td>2017-04-25 11:57:00</td>\n      <td>Roslindale</td>\n      <td>MA</td>\n      <td>02131</td>\n    </tr>\n  </tbody>\n</table>\n</div>",
      "text/plain": "   license_no        inspect_date        city state    zip\n0       87059 2017-04-25 11:57:00  Roslindale    MA  02131\n1       87059 2017-04-25 11:57:00  Roslindale    MA  02131\n2       87059 2017-04-25 11:57:00  Roslindale    MA  02131\n3       87059 2017-04-25 11:57:00  Roslindale    MA  02131\n4       87059 2017-04-25 11:57:00  Roslindale    MA  02131"
     },
     "execution_count": 16,
     "metadata": {},
     "output_type": "execute_result"
    }
   ],
   "source": [
    "# Select only the columns that we want and rename them in the DataFrame\n",
    "new_boston_data_df = boston_data_df[[\"licenseno\",\"resultdttm\",\"city\",\"state\",\"zip\"]]\n",
    "new_boston_data_df = new_boston_data_df.rename(columns={\"licenseno\": \"license_no\",\n",
    "                                                        \"resultdttm\": \"inspect_date\",\n",
    "                                                        })\n",
    "\n",
    "# Drop any null or missing values\n",
    "new_boston_data_df.dropna(inplace=True)\n",
    "\n",
    "# Convert inspect_date to datetime data type\n",
    "new_boston_data_df['inspect_date'] = new_boston_data_df['inspect_date'].astype('datetime64[ns]')\n",
    "\n",
    "# Cleanup the zip code column by applying a format that adds a preceding zero \n",
    "# And makes the length of the zipcode column to 5 digit\n",
    "new_boston_data_df['zip'] = new_boston_data_df['zip'].apply(lambda x: '{0:0>5}'.format(x))\n",
    "\n",
    "# Verify data types, counts and print head\n",
    "print(new_boston_data_df.dtypes)\n",
    "print(new_boston_data_df.count())\n",
    "new_boston_data_df.head()"
   ]
  },
  {
   "cell_type": "code",
   "execution_count": 17,
   "metadata": {},
   "outputs": [
    {
     "name": "stdout",
     "output_type": "stream",
     "text": "license_no               int64\ninspect_date    datetime64[ns]\ncity                    object\nstate                   object\nzip                     object\ndtype: object\nlicense_no      21558\ninspect_date    21558\ncity            21558\nstate           21558\nzip             21558\ndtype: int64\n"
    },
    {
     "data": {
      "text/html": "<div>\n<style scoped>\n    .dataframe tbody tr th:only-of-type {\n        vertical-align: middle;\n    }\n\n    .dataframe tbody tr th {\n        vertical-align: top;\n    }\n\n    .dataframe thead th {\n        text-align: right;\n    }\n</style>\n<table border=\"1\" class=\"dataframe\">\n  <thead>\n    <tr style=\"text-align: right;\">\n      <th></th>\n      <th>license_no</th>\n      <th>inspect_date</th>\n      <th>city</th>\n      <th>state</th>\n      <th>zip</th>\n    </tr>\n  </thead>\n  <tbody>\n    <tr>\n      <th>0</th>\n      <td>1889055</td>\n      <td>2017-12-29</td>\n      <td>CHICAGO</td>\n      <td>IL</td>\n      <td>60657</td>\n    </tr>\n    <tr>\n      <th>1</th>\n      <td>60138</td>\n      <td>2017-12-28</td>\n      <td>CHICAGO</td>\n      <td>IL</td>\n      <td>60640</td>\n    </tr>\n    <tr>\n      <th>2</th>\n      <td>1382610</td>\n      <td>2017-12-28</td>\n      <td>CHICAGO</td>\n      <td>IL</td>\n      <td>60602</td>\n    </tr>\n    <tr>\n      <th>3</th>\n      <td>1841515</td>\n      <td>2017-12-28</td>\n      <td>CHICAGO</td>\n      <td>IL</td>\n      <td>60640</td>\n    </tr>\n    <tr>\n      <th>4</th>\n      <td>11190</td>\n      <td>2017-12-28</td>\n      <td>CHICAGO</td>\n      <td>IL</td>\n      <td>60640</td>\n    </tr>\n  </tbody>\n</table>\n</div>",
      "text/plain": "   license_no inspect_date     city state    zip\n0     1889055   2017-12-29  CHICAGO    IL  60657\n1       60138   2017-12-28  CHICAGO    IL  60640\n2     1382610   2017-12-28  CHICAGO    IL  60602\n3     1841515   2017-12-28  CHICAGO    IL  60640\n4       11190   2017-12-28  CHICAGO    IL  60640"
     },
     "execution_count": 17,
     "metadata": {},
     "output_type": "execute_result"
    }
   ],
   "source": [
    "# Select only the columns that we want and rename them in the DataFrame\n",
    "new_chicago_data_df = chicago_data_df[[\"License #\",\"Inspection Date\",\"City\",\"State\",\"Zip\"]]\n",
    "new_chicago_data_df = new_chicago_data_df.rename(columns={\"License #\": \"license_no\",\n",
    "                                                  \"Inspection Date\": \"inspect_date\",\n",
    "                                                  \"City\":\"city\",\n",
    "                                                  \"State\":\"state\",\n",
    "                                                  \"Zip\":\"zip\"\n",
    "                                                  })\n",
    "# Drop any null or missing values\n",
    "new_chicago_data_df.dropna(inplace=True)\n",
    "\n",
    "# Convert license_no and zipcode values to integer data type\n",
    "new_chicago_data_df = new_chicago_data_df.astype({'license_no': int, 'zip': str})\n",
    "\n",
    "# Convert inspect_date to datetime data type\n",
    "new_chicago_data_df['inspect_date'] = new_chicago_data_df['inspect_date'].astype('datetime64[ns]')\n",
    "\n",
    "# Verify data types, counts and print head\n",
    "print(new_chicago_data_df.dtypes)\n",
    "print(new_chicago_data_df.count())\n",
    "new_chicago_data_df.head()"
   ]
  },
  {
   "cell_type": "code",
   "execution_count": 9,
   "metadata": {},
   "outputs": [
    {
     "data": {
      "text/html": [
       "<div>\n",
       "<style scoped>\n",
       "    .dataframe tbody tr th:only-of-type {\n",
       "        vertical-align: middle;\n",
       "    }\n",
       "\n",
       "    .dataframe tbody tr th {\n",
       "        vertical-align: top;\n",
       "    }\n",
       "\n",
       "    .dataframe thead th {\n",
       "        text-align: right;\n",
       "    }\n",
       "</style>\n",
       "<table border=\"1\" class=\"dataframe\">\n",
       "  <thead>\n",
       "    <tr style=\"text-align: right;\">\n",
       "      <th></th>\n",
       "      <th>license_no</th>\n",
       "      <th>inspect_date</th>\n",
       "      <th>city</th>\n",
       "      <th>state</th>\n",
       "      <th>zip</th>\n",
       "    </tr>\n",
       "  </thead>\n",
       "  <tbody>\n",
       "    <tr>\n",
       "      <th>0</th>\n",
       "      <td>891335</td>\n",
       "      <td>2/24/2017</td>\n",
       "      <td>PINE CITY</td>\n",
       "      <td>NY</td>\n",
       "      <td>14871</td>\n",
       "    </tr>\n",
       "    <tr>\n",
       "      <th>1</th>\n",
       "      <td>458776</td>\n",
       "      <td>3/20/2017</td>\n",
       "      <td>Potsdam</td>\n",
       "      <td>NY</td>\n",
       "      <td>13676</td>\n",
       "    </tr>\n",
       "    <tr>\n",
       "      <th>2</th>\n",
       "      <td>358617</td>\n",
       "      <td>9/27/2017</td>\n",
       "      <td>LAKE PLACID</td>\n",
       "      <td>NY</td>\n",
       "      <td>12946</td>\n",
       "    </tr>\n",
       "    <tr>\n",
       "      <th>3</th>\n",
       "      <td>578208</td>\n",
       "      <td>11/13/2017</td>\n",
       "      <td>ELMONT</td>\n",
       "      <td>NY</td>\n",
       "      <td>110032404</td>\n",
       "    </tr>\n",
       "    <tr>\n",
       "      <th>4</th>\n",
       "      <td>358617</td>\n",
       "      <td>9/27/2017</td>\n",
       "      <td>LAKE PLACID</td>\n",
       "      <td>NY</td>\n",
       "      <td>12946</td>\n",
       "    </tr>\n",
       "  </tbody>\n",
       "</table>\n",
       "</div>"
      ],
      "text/plain": [
       "   license_no inspect_date         city state        zip\n",
       "0      891335    2/24/2017    PINE CITY    NY      14871\n",
       "1      458776    3/20/2017      Potsdam    NY      13676\n",
       "2      358617    9/27/2017  LAKE PLACID    NY      12946\n",
       "3      578208   11/13/2017       ELMONT    NY  110032404\n",
       "4      358617    9/27/2017  LAKE PLACID    NY      12946"
      ]
     },
     "execution_count": 9,
     "metadata": {},
     "output_type": "execute_result"
    }
   ],
   "source": [
    "new_nyc_data_df = nyc_data_df[[\"NYS HEALTH OPERATION ID\",\"DATE OF INSPECTION\",\"FACILITY CITY\",\"FS FACILITY STATE\",\"FACILITY POSTAL ZIPCODE\"]]\n",
    "##NEED TO CONVERT DATE TO DATE AND ZIP TO NUMBER\n",
    "new_nyc_data_df = new_nyc_data_df.rename(columns={\"NYS HEALTH OPERATION ID\": \"license_no\",\n",
    "                                                          \"DATE OF INSPECTION\": \"inspect_date\",\n",
    "                                                          \"FACILITY CITY\":\"city\",\n",
    "                                                          \"FS FACILITY STATE\":\"state\",\n",
    "                                                          \"FACILITY POSTAL ZIPCODE\":\"zip\"\n",
    "                                                          })\n",
    "new_nyc_data_df.head()"
   ]
  },
  {
   "cell_type": "markdown",
   "metadata": {},
   "source": [
    "### Create unique license_no PK for each state"
   ]
  },
  {
   "cell_type": "code",
   "execution_count": 70,
   "metadata": {},
   "outputs": [
    {
     "data": {
      "text/html": [
       "<div>\n",
       "<style scoped>\n",
       "    .dataframe tbody tr th:only-of-type {\n",
       "        vertical-align: middle;\n",
       "    }\n",
       "\n",
       "    .dataframe tbody tr th {\n",
       "        vertical-align: top;\n",
       "    }\n",
       "\n",
       "    .dataframe thead th {\n",
       "        text-align: right;\n",
       "    }\n",
       "</style>\n",
       "<table border=\"1\" class=\"dataframe\">\n",
       "  <thead>\n",
       "    <tr style=\"text-align: right;\">\n",
       "      <th></th>\n",
       "      <th>license_no</th>\n",
       "      <th>inspect_date</th>\n",
       "      <th>city</th>\n",
       "      <th>state</th>\n",
       "      <th>zip</th>\n",
       "    </tr>\n",
       "  </thead>\n",
       "  <tbody>\n",
       "    <tr>\n",
       "      <th>0</th>\n",
       "      <td>87059-MA-MA-MA</td>\n",
       "      <td>2017-04-25 11:57:00</td>\n",
       "      <td>Roslindale</td>\n",
       "      <td>MA</td>\n",
       "      <td>2131</td>\n",
       "    </tr>\n",
       "    <tr>\n",
       "      <th>1</th>\n",
       "      <td>87059-MA-MA-MA</td>\n",
       "      <td>2017-04-25 11:57:00</td>\n",
       "      <td>Roslindale</td>\n",
       "      <td>MA</td>\n",
       "      <td>2131</td>\n",
       "    </tr>\n",
       "    <tr>\n",
       "      <th>2</th>\n",
       "      <td>87059-MA-MA-MA</td>\n",
       "      <td>2017-04-25 11:57:00</td>\n",
       "      <td>Roslindale</td>\n",
       "      <td>MA</td>\n",
       "      <td>2131</td>\n",
       "    </tr>\n",
       "    <tr>\n",
       "      <th>3</th>\n",
       "      <td>87059-MA-MA-MA</td>\n",
       "      <td>2017-04-25 11:57:00</td>\n",
       "      <td>Roslindale</td>\n",
       "      <td>MA</td>\n",
       "      <td>2131</td>\n",
       "    </tr>\n",
       "    <tr>\n",
       "      <th>4</th>\n",
       "      <td>87059-MA-MA-MA</td>\n",
       "      <td>2017-04-25 11:57:00</td>\n",
       "      <td>Roslindale</td>\n",
       "      <td>MA</td>\n",
       "      <td>2131</td>\n",
       "    </tr>\n",
       "    <tr>\n",
       "      <th>...</th>\n",
       "      <td>...</td>\n",
       "      <td>...</td>\n",
       "      <td>...</td>\n",
       "      <td>...</td>\n",
       "      <td>...</td>\n",
       "    </tr>\n",
       "    <tr>\n",
       "      <th>43416</th>\n",
       "      <td>26357-MA-MA-MA</td>\n",
       "      <td>2017-06-06 12:11:00</td>\n",
       "      <td>Boston</td>\n",
       "      <td>MA</td>\n",
       "      <td>2109</td>\n",
       "    </tr>\n",
       "    <tr>\n",
       "      <th>43417</th>\n",
       "      <td>26357-MA-MA-MA</td>\n",
       "      <td>2017-06-06 12:11:00</td>\n",
       "      <td>Boston</td>\n",
       "      <td>MA</td>\n",
       "      <td>2109</td>\n",
       "    </tr>\n",
       "    <tr>\n",
       "      <th>43418</th>\n",
       "      <td>26357-MA-MA-MA</td>\n",
       "      <td>2017-06-06 12:11:00</td>\n",
       "      <td>Boston</td>\n",
       "      <td>MA</td>\n",
       "      <td>2109</td>\n",
       "    </tr>\n",
       "    <tr>\n",
       "      <th>43419</th>\n",
       "      <td>27260-MA-MA-MA</td>\n",
       "      <td>2017-01-26 09:23:00</td>\n",
       "      <td>Charlestown</td>\n",
       "      <td>MA</td>\n",
       "      <td>2129</td>\n",
       "    </tr>\n",
       "    <tr>\n",
       "      <th>43420</th>\n",
       "      <td>27260-MA-MA-MA</td>\n",
       "      <td>2017-08-08 13:12:00</td>\n",
       "      <td>Charlestown</td>\n",
       "      <td>MA</td>\n",
       "      <td>2129</td>\n",
       "    </tr>\n",
       "  </tbody>\n",
       "</table>\n",
       "<p>43421 rows × 5 columns</p>\n",
       "</div>"
      ],
      "text/plain": [
       "           license_no        inspect_date         city state   zip\n",
       "0      87059-MA-MA-MA 2017-04-25 11:57:00   Roslindale    MA  2131\n",
       "1      87059-MA-MA-MA 2017-04-25 11:57:00   Roslindale    MA  2131\n",
       "2      87059-MA-MA-MA 2017-04-25 11:57:00   Roslindale    MA  2131\n",
       "3      87059-MA-MA-MA 2017-04-25 11:57:00   Roslindale    MA  2131\n",
       "4      87059-MA-MA-MA 2017-04-25 11:57:00   Roslindale    MA  2131\n",
       "...               ...                 ...          ...   ...   ...\n",
       "43416  26357-MA-MA-MA 2017-06-06 12:11:00       Boston    MA  2109\n",
       "43417  26357-MA-MA-MA 2017-06-06 12:11:00       Boston    MA  2109\n",
       "43418  26357-MA-MA-MA 2017-06-06 12:11:00       Boston    MA  2109\n",
       "43419  27260-MA-MA-MA 2017-01-26 09:23:00  Charlestown    MA  2129\n",
       "43420  27260-MA-MA-MA 2017-08-08 13:12:00  Charlestown    MA  2129\n",
       "\n",
       "[43421 rows x 5 columns]"
      ]
     },
     "execution_count": 70,
     "metadata": {},
     "output_type": "execute_result"
    }
   ],
   "source": [
    "new = new_boston_data_df[\"state\"].copy() \n",
    "\n",
    "new_boston_data_df[\"license_no\"]= new_boston_data_df[\"license_no\"].astype(str) \n",
    "# concatenating team with name column \n",
    "# overwriting name column\n",
    "\n",
    "new_boston_data_df[\"license_no\"]= new_boston_data_df[\"license_no\"].str.cat(new, sep =\"-\") \n",
    "new_boston_data_df['inspect_date'] = pd.to_datetime(new_boston_data_df['inspect_date'], format = \"%m/%d/%Y\")\n",
    "# display \n",
    "new_boston_data_df "
   ]
  },
  {
   "cell_type": "code",
   "execution_count": 12,
   "metadata": {},
   "outputs": [
    {
     "data": {
      "text/html": [
       "<div>\n",
       "<style scoped>\n",
       "    .dataframe tbody tr th:only-of-type {\n",
       "        vertical-align: middle;\n",
       "    }\n",
       "\n",
       "    .dataframe tbody tr th {\n",
       "        vertical-align: top;\n",
       "    }\n",
       "\n",
       "    .dataframe thead th {\n",
       "        text-align: right;\n",
       "    }\n",
       "</style>\n",
       "<table border=\"1\" class=\"dataframe\">\n",
       "  <thead>\n",
       "    <tr style=\"text-align: right;\">\n",
       "      <th></th>\n",
       "      <th>license_no</th>\n",
       "      <th>inspect_date</th>\n",
       "      <th>city</th>\n",
       "      <th>state</th>\n",
       "      <th>zip</th>\n",
       "    </tr>\n",
       "  </thead>\n",
       "  <tbody>\n",
       "    <tr>\n",
       "      <th>0</th>\n",
       "      <td>1889055.0-IL</td>\n",
       "      <td>12/29/2017</td>\n",
       "      <td>CHICAGO</td>\n",
       "      <td>IL</td>\n",
       "      <td>60657</td>\n",
       "    </tr>\n",
       "    <tr>\n",
       "      <th>1</th>\n",
       "      <td>60138.0-IL</td>\n",
       "      <td>12/28/2017</td>\n",
       "      <td>CHICAGO</td>\n",
       "      <td>IL</td>\n",
       "      <td>60640</td>\n",
       "    </tr>\n",
       "    <tr>\n",
       "      <th>2</th>\n",
       "      <td>1382610.0-IL</td>\n",
       "      <td>12/28/2017</td>\n",
       "      <td>CHICAGO</td>\n",
       "      <td>IL</td>\n",
       "      <td>60602</td>\n",
       "    </tr>\n",
       "    <tr>\n",
       "      <th>3</th>\n",
       "      <td>1841515.0-IL</td>\n",
       "      <td>12/28/2017</td>\n",
       "      <td>CHICAGO</td>\n",
       "      <td>IL</td>\n",
       "      <td>60640</td>\n",
       "    </tr>\n",
       "    <tr>\n",
       "      <th>4</th>\n",
       "      <td>11190.0-IL</td>\n",
       "      <td>12/28/2017</td>\n",
       "      <td>CHICAGO</td>\n",
       "      <td>IL</td>\n",
       "      <td>60640</td>\n",
       "    </tr>\n",
       "    <tr>\n",
       "      <th>...</th>\n",
       "      <td>...</td>\n",
       "      <td>...</td>\n",
       "      <td>...</td>\n",
       "      <td>...</td>\n",
       "      <td>...</td>\n",
       "    </tr>\n",
       "    <tr>\n",
       "      <th>21583</th>\n",
       "      <td>1954065.0-IL</td>\n",
       "      <td>2/23/2017</td>\n",
       "      <td>CHICAGO</td>\n",
       "      <td>IL</td>\n",
       "      <td>60625</td>\n",
       "    </tr>\n",
       "    <tr>\n",
       "      <th>21584</th>\n",
       "      <td>2511774.0-IL</td>\n",
       "      <td>2/16/2017</td>\n",
       "      <td>CHICAGO</td>\n",
       "      <td>IL</td>\n",
       "      <td>60642</td>\n",
       "    </tr>\n",
       "    <tr>\n",
       "      <th>21585</th>\n",
       "      <td>26921.0-IL</td>\n",
       "      <td>2/8/2017</td>\n",
       "      <td>CHICAGO</td>\n",
       "      <td>IL</td>\n",
       "      <td>60641</td>\n",
       "    </tr>\n",
       "    <tr>\n",
       "      <th>21586</th>\n",
       "      <td>2516663.0-IL</td>\n",
       "      <td>2/24/2017</td>\n",
       "      <td>CHICAGO</td>\n",
       "      <td>IL</td>\n",
       "      <td>60608</td>\n",
       "    </tr>\n",
       "    <tr>\n",
       "      <th>21587</th>\n",
       "      <td>2293179.0-IL</td>\n",
       "      <td>1/24/2017</td>\n",
       "      <td>CHICAGO</td>\n",
       "      <td>IL</td>\n",
       "      <td>60617</td>\n",
       "    </tr>\n",
       "  </tbody>\n",
       "</table>\n",
       "<p>21588 rows × 5 columns</p>\n",
       "</div>"
      ],
      "text/plain": [
       "         license_no inspect_date     city state    zip\n",
       "0      1889055.0-IL   12/29/2017  CHICAGO    IL  60657\n",
       "1        60138.0-IL   12/28/2017  CHICAGO    IL  60640\n",
       "2      1382610.0-IL   12/28/2017  CHICAGO    IL  60602\n",
       "3      1841515.0-IL   12/28/2017  CHICAGO    IL  60640\n",
       "4        11190.0-IL   12/28/2017  CHICAGO    IL  60640\n",
       "...             ...          ...      ...   ...    ...\n",
       "21583  1954065.0-IL    2/23/2017  CHICAGO    IL  60625\n",
       "21584  2511774.0-IL    2/16/2017  CHICAGO    IL  60642\n",
       "21585    26921.0-IL     2/8/2017  CHICAGO    IL  60641\n",
       "21586  2516663.0-IL    2/24/2017  CHICAGO    IL  60608\n",
       "21587  2293179.0-IL    1/24/2017  CHICAGO    IL  60617\n",
       "\n",
       "[21588 rows x 5 columns]"
      ]
     },
     "execution_count": 12,
     "metadata": {},
     "output_type": "execute_result"
    }
   ],
   "source": [
    "new = new_chicago_data_df[\"state\"].copy() \n",
    "\n",
    "new_chicago_data_df[\"license_no\"]= new_chicago_data_df[\"license_no\"].astype(str) \n",
    "# concatenating team with name column \n",
    "# overwriting name column\n",
    "\n",
    "new_chicago_data_df[\"license_no\"]= new_chicago_data_df[\"license_no\"].str.cat(new, sep =\"-\") \n",
    "  \n",
    "# display \n",
    "new_chicago_data_df "
   ]
  },
  {
   "cell_type": "code",
   "execution_count": 14,
   "metadata": {},
   "outputs": [
    {
     "data": {
      "text/html": [
       "<div>\n",
       "<style scoped>\n",
       "    .dataframe tbody tr th:only-of-type {\n",
       "        vertical-align: middle;\n",
       "    }\n",
       "\n",
       "    .dataframe tbody tr th {\n",
       "        vertical-align: top;\n",
       "    }\n",
       "\n",
       "    .dataframe thead th {\n",
       "        text-align: right;\n",
       "    }\n",
       "</style>\n",
       "<table border=\"1\" class=\"dataframe\">\n",
       "  <thead>\n",
       "    <tr style=\"text-align: right;\">\n",
       "      <th></th>\n",
       "      <th>license_no</th>\n",
       "      <th>inspect_date</th>\n",
       "      <th>city</th>\n",
       "      <th>state</th>\n",
       "      <th>zip</th>\n",
       "    </tr>\n",
       "  </thead>\n",
       "  <tbody>\n",
       "    <tr>\n",
       "      <th>0</th>\n",
       "      <td>891335-NY</td>\n",
       "      <td>2/24/2017</td>\n",
       "      <td>PINE CITY</td>\n",
       "      <td>NY</td>\n",
       "      <td>14871</td>\n",
       "    </tr>\n",
       "    <tr>\n",
       "      <th>1</th>\n",
       "      <td>458776-NY</td>\n",
       "      <td>3/20/2017</td>\n",
       "      <td>Potsdam</td>\n",
       "      <td>NY</td>\n",
       "      <td>13676</td>\n",
       "    </tr>\n",
       "    <tr>\n",
       "      <th>2</th>\n",
       "      <td>358617-NY</td>\n",
       "      <td>9/27/2017</td>\n",
       "      <td>LAKE PLACID</td>\n",
       "      <td>NY</td>\n",
       "      <td>12946</td>\n",
       "    </tr>\n",
       "    <tr>\n",
       "      <th>3</th>\n",
       "      <td>578208-NY</td>\n",
       "      <td>11/13/2017</td>\n",
       "      <td>ELMONT</td>\n",
       "      <td>NY</td>\n",
       "      <td>110032404</td>\n",
       "    </tr>\n",
       "    <tr>\n",
       "      <th>4</th>\n",
       "      <td>358617-NY</td>\n",
       "      <td>9/27/2017</td>\n",
       "      <td>LAKE PLACID</td>\n",
       "      <td>NY</td>\n",
       "      <td>12946</td>\n",
       "    </tr>\n",
       "    <tr>\n",
       "      <th>...</th>\n",
       "      <td>...</td>\n",
       "      <td>...</td>\n",
       "      <td>...</td>\n",
       "      <td>...</td>\n",
       "      <td>...</td>\n",
       "    </tr>\n",
       "    <tr>\n",
       "      <th>93702</th>\n",
       "      <td>805343-NY</td>\n",
       "      <td>8/17/2017</td>\n",
       "      <td>SPECULATOR</td>\n",
       "      <td>NY</td>\n",
       "      <td>12164</td>\n",
       "    </tr>\n",
       "    <tr>\n",
       "      <th>93703</th>\n",
       "      <td>500600-NY</td>\n",
       "      <td>9/15/2017</td>\n",
       "      <td>UTICA</td>\n",
       "      <td>NY</td>\n",
       "      <td>13501</td>\n",
       "    </tr>\n",
       "    <tr>\n",
       "      <th>93704</th>\n",
       "      <td>929018-NY</td>\n",
       "      <td>4/25/2017</td>\n",
       "      <td>OCEANSIDE</td>\n",
       "      <td>NY</td>\n",
       "      <td>11572</td>\n",
       "    </tr>\n",
       "    <tr>\n",
       "      <th>93705</th>\n",
       "      <td>926124-NY</td>\n",
       "      <td>4/27/2017</td>\n",
       "      <td>HEMPSTEAD</td>\n",
       "      <td>NY</td>\n",
       "      <td>115504540</td>\n",
       "    </tr>\n",
       "    <tr>\n",
       "      <th>93706</th>\n",
       "      <td>500600-NY</td>\n",
       "      <td>5/23/2017</td>\n",
       "      <td>UTICA</td>\n",
       "      <td>NY</td>\n",
       "      <td>13501</td>\n",
       "    </tr>\n",
       "  </tbody>\n",
       "</table>\n",
       "<p>93707 rows × 5 columns</p>\n",
       "</div>"
      ],
      "text/plain": [
       "      license_no inspect_date         city state        zip\n",
       "0      891335-NY    2/24/2017    PINE CITY    NY      14871\n",
       "1      458776-NY    3/20/2017      Potsdam    NY      13676\n",
       "2      358617-NY    9/27/2017  LAKE PLACID    NY      12946\n",
       "3      578208-NY   11/13/2017       ELMONT    NY  110032404\n",
       "4      358617-NY    9/27/2017  LAKE PLACID    NY      12946\n",
       "...          ...          ...          ...   ...        ...\n",
       "93702  805343-NY    8/17/2017   SPECULATOR    NY      12164\n",
       "93703  500600-NY    9/15/2017        UTICA    NY      13501\n",
       "93704  929018-NY    4/25/2017    OCEANSIDE    NY      11572\n",
       "93705  926124-NY    4/27/2017    HEMPSTEAD    NY  115504540\n",
       "93706  500600-NY    5/23/2017        UTICA    NY      13501\n",
       "\n",
       "[93707 rows x 5 columns]"
      ]
     },
     "execution_count": 14,
     "metadata": {},
     "output_type": "execute_result"
    }
   ],
   "source": [
    "new = new_nyc_data_df[\"state\"].copy() \n",
    "\n",
    "new_nyc_data_df[\"license_no\"]= new_nyc_data_df[\"license_no\"].astype(str) \n",
    "# concatenating team with name column \n",
    "# overwriting name column\n",
    "\n",
    "new_nyc_data_df[\"license_no\"]= new_nyc_data_df[\"license_no\"].str.cat(new, sep =\"-\") \n",
    "  \n",
    "# display \n",
    "new_nyc_data_df "
   ]
  },
  {
   "cell_type": "markdown",
   "metadata": {},
   "source": [
    "### Merge the city DataFrames"
   ]
  },
  {
   "cell_type": "code",
   "execution_count": 67,
   "metadata": {},
   "outputs": [
    {
     "data": {
      "text/plain": [
       "license_no      object\n",
       "inspect_date    object\n",
       "city            object\n",
       "state           object\n",
       "zip             object\n",
       "dtype: object"
      ]
     },
     "execution_count": 67,
     "metadata": {},
     "output_type": "execute_result"
    }
   ],
   "source": [
    "merge_df = pd.concat([new_boston_data_df, new_chicago_data_df, new_nyc_data_df])\n",
    "merge_df['city'] = merge_df['city'].str.title() \n",
    "merge_df['state'] = merge_df['state'].str.upper()\n",
    "merge_df.dtypes"
   ]
  },
  {
   "cell_type": "markdown",
   "metadata": {},
   "source": [
    "### Clean DataFrame"
   ]
  },
  {
   "cell_type": "code",
   "execution_count": null,
   "metadata": {},
   "outputs": [],
   "source": []
  },
  {
   "cell_type": "markdown",
   "metadata": {},
   "source": [
    "### Connect to local database"
   ]
  },
  {
   "cell_type": "code",
   "execution_count": null,
   "metadata": {},
   "outputs": [],
   "source": []
  },
  {
   "cell_type": "markdown",
   "metadata": {},
   "source": [
    "### Check for tables"
   ]
  },
  {
   "cell_type": "code",
   "execution_count": null,
   "metadata": {},
   "outputs": [],
   "source": []
  },
  {
   "cell_type": "markdown",
   "metadata": {},
   "source": [
    "### Use pandas to load csv converted DataFrame into database"
   ]
  },
  {
   "cell_type": "code",
   "execution_count": null,
   "metadata": {},
   "outputs": [],
   "source": []
  },
  {
   "cell_type": "markdown",
   "metadata": {},
   "source": [
    "### Use pandas to load json converted DataFrame into database"
   ]
  },
  {
   "cell_type": "code",
   "execution_count": null,
   "metadata": {},
   "outputs": [],
   "source": []
  },
  {
   "cell_type": "markdown",
   "metadata": {},
   "source": [
    "### Confirm data has been added by querying the customer_name table\n",
    "* NOTE: can also check using pgAdmin"
   ]
  },
  {
   "cell_type": "code",
   "execution_count": null,
   "metadata": {},
   "outputs": [],
   "source": []
  },
  {
   "cell_type": "markdown",
   "metadata": {},
   "source": [
    "### Confirm data has been added by querying the customer_location table"
   ]
  },
  {
   "cell_type": "code",
   "execution_count": null,
   "metadata": {},
   "outputs": [],
   "source": []
  }
 ],
 "metadata": {
  "kernelspec": {
   "display_name": "Python 3.7.5 64-bit ('PythonData': conda)",
   "language": "python",
   "name": "python37564bitpythondatacondac30bd6fcf4694af7948ebff9c485f105"
  },
  "language_info": {
   "codemirror_mode": {
    "name": "ipython",
    "version": 3
   },
   "file_extension": ".py",
   "mimetype": "text/x-python",
   "name": "python",
   "nbconvert_exporter": "python",
   "pygments_lexer": "ipython3",
   "version": "3.7.5-final"
  },
  "nteract": {
   "version": "0.12.3"
  }
 },
 "nbformat": 4,
 "nbformat_minor": 2
}